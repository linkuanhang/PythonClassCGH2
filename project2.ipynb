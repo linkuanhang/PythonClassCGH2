{
  "nbformat": 4,
  "nbformat_minor": 0,
  "metadata": {
    "colab": {
      "name": "project2.ipynb",
      "version": "0.3.2",
      "provenance": [],
      "toc_visible": true,
      "include_colab_link": true
    },
    "kernelspec": {
      "name": "python3",
      "display_name": "Python 3"
    }
  },
  "cells": [
    {
      "cell_type": "markdown",
      "metadata": {
        "id": "view-in-github",
        "colab_type": "text"
      },
      "source": [
        "<a href=\"https://colab.research.google.com/github/linkuanhang/PythonClassCGH2/blob/master/project2.ipynb\" target=\"_parent\"><img src=\"https://colab.research.google.com/assets/colab-badge.svg\" alt=\"Open In Colab\"/></a>"
      ]
    },
    {
      "metadata": {
        "id": "m7d1AnvGogG5",
        "colab_type": "text"
      },
      "cell_type": "markdown",
      "source": [
        "# Python data structure\n",
        "\n",
        "- Integer\n",
        "- Float\n",
        "- String\n",
        "- Boolean"
      ]
    },
    {
      "metadata": {
        "id": "tYDWKQ51rGJq",
        "colab_type": "code",
        "outputId": "a5f2efe8-6054-4231-f1c0-667368d04222",
        "colab": {
          "base_uri": "https://localhost:8080/",
          "height": 34
        }
      },
      "cell_type": "code",
      "source": [
        "a = 5\n",
        "b = '5'\n",
        "c = 4.5\n",
        "d = True\n",
        "\n",
        "print(type(a), type(b), type(c), type(d))"
      ],
      "execution_count": 0,
      "outputs": [
        {
          "output_type": "stream",
          "text": [
            "<class 'int'> <class 'str'> <class 'float'> <class 'bool'>\n"
          ],
          "name": "stdout"
        }
      ]
    },
    {
      "metadata": {
        "id": "ahINJO34rQfY",
        "colab_type": "text"
      },
      "cell_type": "markdown",
      "source": [
        "## If elif else statement"
      ]
    },
    {
      "metadata": {
        "id": "kT1d1khDswdZ",
        "colab_type": "code",
        "colab": {}
      },
      "cell_type": "code",
      "source": [
        "a = 5\n",
        "b = 8\n",
        "\n",
        "if a < 5:\n",
        "  print('a is less than 5')\n",
        "elif a > 5:\n",
        "  print('a is greater than 5')\n",
        "else:\n",
        "  print('a is equal to 5')"
      ],
      "execution_count": 0,
      "outputs": []
    },
    {
      "metadata": {
        "id": "Nj-_iQp0tO4B",
        "colab_type": "text"
      },
      "cell_type": "markdown",
      "source": [
        "## Boolean"
      ]
    },
    {
      "metadata": {
        "id": "D2RNy5IEuBrQ",
        "colab_type": "code",
        "outputId": "2991aec7-1e3b-49e3-9b2c-61963d994935",
        "colab": {
          "base_uri": "https://localhost:8080/",
          "height": 34
        }
      },
      "cell_type": "code",
      "source": [
        "print(a > 4)"
      ],
      "execution_count": 0,
      "outputs": [
        {
          "output_type": "stream",
          "text": [
            "True\n"
          ],
          "name": "stdout"
        }
      ]
    },
    {
      "metadata": {
        "id": "H4IC-weEuK6s",
        "colab_type": "code",
        "outputId": "cabeffc9-91ba-4fa2-e05c-60de1307216d",
        "colab": {
          "base_uri": "https://localhost:8080/",
          "height": 34
        }
      },
      "cell_type": "code",
      "source": [
        "if a:\n",
        "  print(a)\n",
        "elif b:\n",
        "  print(b)\n",
        "elif c:\n",
        "  print(c)\n",
        "else:\n",
        "  print(d)"
      ],
      "execution_count": 0,
      "outputs": [
        {
          "output_type": "stream",
          "text": [
            "5\n"
          ],
          "name": "stdout"
        }
      ]
    },
    {
      "metadata": {
        "id": "zRAluZiYv5sT",
        "colab_type": "text"
      },
      "cell_type": "markdown",
      "source": [
        "## List"
      ]
    },
    {
      "metadata": {
        "id": "jKS0trL8xJyJ",
        "colab_type": "code",
        "outputId": "46b98114-04f3-49a4-a954-e1666abbcdfd",
        "colab": {
          "base_uri": "https://localhost:8080/",
          "height": 34
        }
      },
      "cell_type": "code",
      "source": [
        "my_list = ['a', 'start', 6, 7.9, True, False]\n",
        "print(my_list, type(my_list))"
      ],
      "execution_count": 0,
      "outputs": [
        {
          "output_type": "stream",
          "text": [
            "['a', 'start', 6, 7.9, True, False] <class 'list'>\n"
          ],
          "name": "stdout"
        }
      ]
    },
    {
      "metadata": {
        "id": "dLYQp_1vx8dC",
        "colab_type": "code",
        "outputId": "829a94eb-7a51-445f-c2ff-9bc878a0d0e6",
        "colab": {
          "base_uri": "https://localhost:8080/",
          "height": 34
        }
      },
      "cell_type": "code",
      "source": [
        "my_list_2 = ['a', ['b', 'c', 7], True, 7.8, 4, 5, 7, 9, 0, 1, 45]\n",
        "print(my_list_2, type(my_list_2))"
      ],
      "execution_count": 0,
      "outputs": [
        {
          "output_type": "stream",
          "text": [
            "['a', ['b', 'c', 7], True, 7.8, 4, 5, 7, 9, 0, 1, 45] <class 'list'>\n"
          ],
          "name": "stdout"
        }
      ]
    },
    {
      "metadata": {
        "id": "oNCcTevOytqu",
        "colab_type": "text"
      },
      "cell_type": "markdown",
      "source": [
        "### Index"
      ]
    },
    {
      "metadata": {
        "id": "G9yOp3tDyx7E",
        "colab_type": "code",
        "outputId": "f808ea83-5e0f-486e-d4f1-9391d6a2689b",
        "colab": {
          "base_uri": "https://localhost:8080/",
          "height": 34
        }
      },
      "cell_type": "code",
      "source": [
        "print(my_list_2[0], my_list_2[1], my_list_2[2], my_list_2[3])"
      ],
      "execution_count": 0,
      "outputs": [
        {
          "output_type": "stream",
          "text": [
            "a ['b', 'c', 7] True 7.8\n"
          ],
          "name": "stdout"
        }
      ]
    },
    {
      "metadata": {
        "id": "FAd-oHvYzLum",
        "colab_type": "code",
        "outputId": "a26fe3d2-484d-4899-948f-86b0b0f1a8c4",
        "colab": {
          "base_uri": "https://localhost:8080/",
          "height": 34
        }
      },
      "cell_type": "code",
      "source": [
        "print(my_list_2[::2])"
      ],
      "execution_count": 0,
      "outputs": [
        {
          "output_type": "stream",
          "text": [
            "['a', True, 4, 7, 0, 45]\n"
          ],
          "name": "stdout"
        }
      ]
    },
    {
      "metadata": {
        "id": "-0OWEa9K0Lis",
        "colab_type": "text"
      },
      "cell_type": "markdown",
      "source": [
        "### Length"
      ]
    },
    {
      "metadata": {
        "id": "QH2vSAvG0ZZn",
        "colab_type": "code",
        "outputId": "2e825c04-f7e6-47a0-a091-3d44e8e9797d",
        "colab": {
          "base_uri": "https://localhost:8080/",
          "height": 34
        }
      },
      "cell_type": "code",
      "source": [
        "len(my_list_2)"
      ],
      "execution_count": 0,
      "outputs": [
        {
          "output_type": "execute_result",
          "data": {
            "text/plain": [
              "11"
            ]
          },
          "metadata": {
            "tags": []
          },
          "execution_count": 64
        }
      ]
    },
    {
      "metadata": {
        "id": "knNJsQ3o0tkp",
        "colab_type": "text"
      },
      "cell_type": "markdown",
      "source": [
        "### Operators"
      ]
    },
    {
      "metadata": {
        "id": "Ha_5Ant90wuR",
        "colab_type": "code",
        "outputId": "f2c43b7d-561a-419b-849d-8fd7dfe2a85d",
        "colab": {
          "base_uri": "https://localhost:8080/",
          "height": 85
        }
      },
      "cell_type": "code",
      "source": [
        "my_question = ['Q1', 'Q2', 'Q3', 'Q4', 'Q5']\n",
        "print(my_question)\n",
        "my_question.append('Q6')\n",
        "print(my_question)\n",
        "my_question.remove('Q2')\n",
        "print(my_question)\n",
        "my_question.insert(4, 'QN')\n",
        "print(my_question)"
      ],
      "execution_count": 0,
      "outputs": [
        {
          "output_type": "stream",
          "text": [
            "['Q1', 'Q2', 'Q3', 'Q4', 'Q5']\n",
            "['Q1', 'Q2', 'Q3', 'Q4', 'Q5', 'Q6']\n",
            "['Q1', 'Q3', 'Q4', 'Q5', 'Q6']\n",
            "['Q1', 'Q3', 'Q4', 'Q5', 'QN', 'Q6']\n"
          ],
          "name": "stdout"
        }
      ]
    },
    {
      "metadata": {
        "id": "V5OqIXGs11Bh",
        "colab_type": "code",
        "outputId": "2b0c668d-8c7d-478c-c432-a5de19a883b2",
        "colab": {
          "base_uri": "https://localhost:8080/",
          "height": 51
        }
      },
      "cell_type": "code",
      "source": [
        "print(my_question[::-1])\n",
        "my_question.reverse()\n",
        "print(my_question)"
      ],
      "execution_count": 0,
      "outputs": [
        {
          "output_type": "stream",
          "text": [
            "['Q6', 'QN', 'Q5', 'Q4', 'Q3', 'Q1']\n",
            "['Q6', 'QN', 'Q5', 'Q4', 'Q3', 'Q1']\n"
          ],
          "name": "stdout"
        }
      ]
    },
    {
      "metadata": {
        "id": "6t-koL3x2Pbt",
        "colab_type": "code",
        "outputId": "e1e34d91-0d33-4adb-f558-d97a362b9466",
        "colab": {
          "base_uri": "https://localhost:8080/",
          "height": 34
        }
      },
      "cell_type": "code",
      "source": [
        "my_question.sort()\n",
        "print(my_question)"
      ],
      "execution_count": 0,
      "outputs": [
        {
          "output_type": "stream",
          "text": [
            "['Q1', 'Q3', 'Q4', 'Q5', 'Q6', 'QN']\n"
          ],
          "name": "stdout"
        }
      ]
    },
    {
      "metadata": {
        "id": "qMdMHaig0ava",
        "colab_type": "text"
      },
      "cell_type": "markdown",
      "source": [
        "## Loop"
      ]
    },
    {
      "metadata": {
        "id": "ycc0pAC-0lNv",
        "colab_type": "code",
        "outputId": "7ce0c5f2-095b-4492-fcf1-71653834f7a6",
        "colab": {
          "base_uri": "https://localhost:8080/",
          "height": 357
        }
      },
      "cell_type": "code",
      "source": [
        "a_list = ['string', 'STRING', 'String', 'cap', 'CAP', 'CaP']\n",
        "for q in a_list:\n",
        "  print(q.upper())\n",
        "print('===========')\n",
        "for q in a_list:\n",
        "  print(q.lower())\n",
        "print('===========')\n",
        "for q in a_list:\n",
        "  print(q.capitalize())"
      ],
      "execution_count": 0,
      "outputs": [
        {
          "output_type": "stream",
          "text": [
            "STRING\n",
            "STRING\n",
            "STRING\n",
            "CAP\n",
            "CAP\n",
            "CAP\n",
            "===========\n",
            "string\n",
            "string\n",
            "string\n",
            "cap\n",
            "cap\n",
            "cap\n",
            "===========\n",
            "String\n",
            "String\n",
            "String\n",
            "Cap\n",
            "Cap\n",
            "Cap\n"
          ],
          "name": "stdout"
        }
      ]
    },
    {
      "metadata": {
        "id": "JbUIbhBR53d6",
        "colab_type": "text"
      },
      "cell_type": "markdown",
      "source": [
        "## Test (## + 5) * 3 > 10"
      ]
    },
    {
      "metadata": {
        "id": "6Y23fNVI5iei",
        "colab_type": "code",
        "outputId": "5701f8ea-d7db-4639-87c1-2cf58c803ad3",
        "colab": {
          "base_uri": "https://localhost:8080/",
          "height": 102
        }
      },
      "cell_type": "code",
      "source": [
        "a = [3, 6, -1, 7, -4, 100]\n",
        "for n in a:\n",
        "  if (n + 5) * 3 > 10:\n",
        "    print(n)"
      ],
      "execution_count": 0,
      "outputs": [
        {
          "output_type": "stream",
          "text": [
            "3\n",
            "6\n",
            "-1\n",
            "7\n",
            "100\n"
          ],
          "name": "stdout"
        }
      ]
    }
  ]
}