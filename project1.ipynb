{
  "nbformat": 4,
  "nbformat_minor": 0,
  "metadata": {
    "colab": {
      "name": "project1.ipynb",
      "version": "0.3.2",
      "provenance": [],
      "toc_visible": true,
      "include_colab_link": true
    },
    "kernelspec": {
      "name": "python3",
      "display_name": "Python 3"
    }
  },
  "cells": [
    {
      "cell_type": "markdown",
      "metadata": {
        "id": "view-in-github",
        "colab_type": "text"
      },
      "source": [
        "<a href=\"https://colab.research.google.com/github/linkuanhang/PythonClassCGH2/blob/master/project1.ipynb\" target=\"_parent\"><img src=\"https://colab.research.google.com/assets/colab-badge.svg\" alt=\"Open In Colab\"/></a>"
      ]
    },
    {
      "metadata": {
        "id": "jQphOXXE1Zov",
        "colab_type": "text"
      },
      "cell_type": "markdown",
      "source": [
        "# First ptoject\n",
        "\n",
        "## Search **.csv** in projects\n",
        "\n",
        "- Number\n",
        "- File names"
      ]
    },
    {
      "metadata": {
        "id": "2E58MSph1rB9",
        "colab_type": "code",
        "colab": {}
      },
      "cell_type": "code",
      "source": [
        "import os"
      ],
      "execution_count": 0,
      "outputs": []
    },
    {
      "metadata": {
        "id": "keOiUFvV2SXx",
        "colab_type": "code",
        "outputId": "672d2da1-c4b2-45a7-f7ec-aabe29e671c8",
        "colab": {
          "base_uri": "https://localhost:8080/",
          "height": 34
        }
      },
      "cell_type": "code",
      "source": [
        "os.listdir()"
      ],
      "execution_count": 0,
      "outputs": [
        {
          "output_type": "execute_result",
          "data": {
            "text/plain": [
              "['.config', 'python_code.py', 'sample_data']"
            ]
          },
          "metadata": {
            "tags": []
          },
          "execution_count": 3
        }
      ]
    },
    {
      "metadata": {
        "id": "Cq6pCgMS2xmo",
        "colab_type": "code",
        "outputId": "9173fce5-35ed-4548-8d87-473efa574d4f",
        "colab": {
          "base_uri": "https://localhost:8080/",
          "height": 119
        }
      },
      "cell_type": "code",
      "source": [
        "total = 0\n",
        "count = 0\n",
        "for root, dirs, files in os.walk('.'):\n",
        "  for fileName in files:\n",
        "    total = total + 1\n",
        "    if fileName.endswith('.csv'):\n",
        "      count = count + 1\n",
        "      print('File {0}: {1}'.format(count, fileName))\n",
        "print('There are {0} files end with .csv under this path.'.format(count))\n",
        "print('There are {0} files under this path.'.format(total))"
      ],
      "execution_count": 0,
      "outputs": [
        {
          "output_type": "stream",
          "text": [
            "File 1: california_housing_test.csv\n",
            "File 2: mnist_test.csv\n",
            "File 3: california_housing_train.csv\n",
            "File 4: mnist_train_small.csv\n",
            "There are 4 files end with .csv under this path.\n",
            "There are 17 files under this path.\n"
          ],
          "name": "stdout"
        }
      ]
    },
    {
      "metadata": {
        "id": "plQwPaCA29PV",
        "colab_type": "code",
        "colab": {}
      },
      "cell_type": "code",
      "source": [
        ""
      ],
      "execution_count": 0,
      "outputs": []
    }
  ]
}